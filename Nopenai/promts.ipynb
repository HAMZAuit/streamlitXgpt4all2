{
 "cells": [
  {
   "cell_type": "markdown",
   "metadata": {},
   "source": [
    "1. Summarizing a Text\n"
   ]
  },
  {
   "cell_type": "code",
   "execution_count": 1,
   "metadata": {},
   "outputs": [],
   "source": [
    "from langchain.prompts import PromptTemplate\n",
    "\n",
    "summarize_prompt_template = PromptTemplate(\n",
    "    input_variables=[\"text\"],\n",
    "    template=\"Summarize the following text:\\n\\n{text}\\n\\nProvide a concise summary.\"\n",
    ")\n",
    "\n",
    "# Example usage\n",
    "# summarized_text = summarize_prompt_template.format(text=\"Your long text here.\")\n"
   ]
  },
  {
   "cell_type": "markdown",
   "metadata": {},
   "source": [
    "2. Writing a Shorter Text\n"
   ]
  },
  {
   "cell_type": "code",
   "execution_count": 2,
   "metadata": {},
   "outputs": [],
   "source": [
    "from langchain.prompts import PromptTemplate\n",
    "\n",
    "shorten_text_prompt_template = PromptTemplate(\n",
    "    input_variables=[\"text\"],\n",
    "    template=\"Shorten the following text while maintaining its key points:\\n\\n{text}\\n\\nProvide a shorter version.\"\n",
    ")\n",
    "\n",
    "# Example usage\n",
    "# shorter_text = shorten_text_prompt_template.format(text=\"Your long text here.\")\n"
   ]
  },
  {
   "cell_type": "markdown",
   "metadata": {},
   "source": [
    "3. Writing a Longer Text\n"
   ]
  },
  {
   "cell_type": "code",
   "execution_count": 3,
   "metadata": {},
   "outputs": [],
   "source": [
    "from langchain.prompts import PromptTemplate\n",
    "\n",
    "lengthen_text_prompt_template = PromptTemplate(\n",
    "    input_variables=[\"text\"],\n",
    "    template=\"Expand the following text with additional details and explanations:\\n\\n{text}\\n\\nProvide a longer, more detailed version.\"\n",
    ")\n",
    "\n",
    "# Example usage\n",
    "# longer_text = lengthen_text_prompt_template.format(text=\"Your short text here.\")\n"
   ]
  },
  {
   "cell_type": "markdown",
   "metadata": {},
   "source": [
    "Generate Text Based on User Input and RAG System Text\n"
   ]
  },
  {
   "cell_type": "code",
   "execution_count": 4,
   "metadata": {},
   "outputs": [],
   "source": [
    "from langchain.prompts import PromptTemplate\n",
    "\n",
    "generate_text_prompt_template = PromptTemplate(\n",
    "    input_variables=[\"user_input\", \"rag_text\"],\n",
    "    template=\"Using the following user input and retrieved text, generate a coherent and informative response:\\n\\nUser Input:\\n{user_input}\\n\\nRetrieved Text:\\n{rag_text}\\n\\nGenerated Response:\"\n",
    ")\n",
    "\n",
    "# Example usage\n",
    "# user_input = \"What are the health benefits of drinking green tea?\"\n",
    "# rag_text = \"Green tea is known for its high antioxidant content. It has been shown to improve brain function, aid in fat loss, and lower the risk of cancer.\"\n",
    "# generated_response = generate_text_prompt_template.format(user_input=user_input, rag_text=rag_text)\n"
   ]
  },
  {
   "cell_type": "code",
   "execution_count": 5,
   "metadata": {},
   "outputs": [
    {
     "name": "stdout",
     "output_type": "stream",
     "text": [
      "User Input:\n",
      "What are the health benefits of drinking green tea?\n",
      "\n",
      "Retrieved Text:\n",
      "Green tea is known for its high antioxidant content. It has been shown to improve brain function, aid in fat loss, and lower the risk of cancer.\n",
      "\n",
      "Please generate a coherent and informative response based on the user input and the retrieved text. Ensure the response is concise and suitable for inclusion in a presentation.\n",
      "\n",
      "Generated Response:\n"
     ]
    }
   ],
   "source": [
    "from langchain.prompts import PromptTemplate\n",
    "\n",
    "generate_text_prompt_template = PromptTemplate(\n",
    "    input_variables=[\"user_input\", \"rag_text\"],\n",
    "    template=\"\"\"\n",
    "User Input:\n",
    "{user_input}\n",
    "\n",
    "Retrieved Text:\n",
    "{rag_text}\n",
    "\n",
    "Please generate a coherent and informative response based on the user input and the retrieved text. Ensure the response is concise and suitable for inclusion in a presentation.\n",
    "\n",
    "Generated Response:\n",
    "\"\"\"\n",
    ")\n",
    "\n",
    "# Example usage\n",
    "user_input = \"What are the health benefits of drinking green tea?\"\n",
    "rag_text = \"Green tea is known for its high antioxidant content. It has been shown to improve brain function, aid in fat loss, and lower the risk of cancer.\"\n",
    "\n",
    "# Generate the response\n",
    "generated_response = generate_text_prompt_template.format(user_input=user_input, rag_text=rag_text)\n",
    "\n",
    "# Print the generated response\n",
    "print(generated_response.strip())  # Using strip() to remove any leading/trailing whitespace\n"
   ]
  },
  {
   "cell_type": "code",
   "execution_count": 6,
   "metadata": {},
   "outputs": [
    {
     "name": "stdout",
     "output_type": "stream",
     "text": [
      "Presentation Context:\n",
      "A presentation on the health benefits of various teas.\n",
      "\n",
      "Slide Text:\n",
      "Green Tea: Rich in antioxidants, boosts brain function, aids in fat loss, and reduces cancer risk.\n",
      "\n",
      "Using the above context and slide text, generate an informative image that clearly explains and complements the content of the slide. The image should be visually appealing and enhance the audience's understanding of the slide's topic.\n"
     ]
    }
   ],
   "source": [
    "# Import LangChain prompt template\n",
    "from langchain.prompts import PromptTemplate\n",
    "\n",
    "# Define the prompt template for generating an image\n",
    "generate_image_prompt_template = PromptTemplate(\n",
    "    input_variables=[\"presentation_context\", \"slide_text\"],\n",
    "    template=\"\"\"\n",
    "Presentation Context:\n",
    "{presentation_context}\n",
    "\n",
    "Slide Text:\n",
    "{slide_text}\n",
    "\n",
    "Using the above context and slide text, generate an informative image that clearly explains and complements the content of the slide. The image should be visually appealing and enhance the audience's understanding of the slide's topic.\n",
    "\"\"\"\n",
    ")\n",
    "\n",
    "# Example inputs\n",
    "presentation_context = \"A presentation on the health benefits of various teas.\"\n",
    "slide_text = \"Green Tea: Rich in antioxidants, boosts brain function, aids in fat loss, and reduces cancer risk.\"\n",
    "\n",
    "# Generate the prompt for the image\n",
    "image_prompt = generate_image_prompt_template.format(presentation_context=presentation_context, slide_text=slide_text)\n",
    "\n",
    "# Print the generated prompt\n",
    "print(image_prompt.strip())\n",
    "\n",
    "# Here you would integrate with the Stable Diffusion model to generate the image using the prompt\n",
    "# For example:\n",
    "# generated_image = stable_diffusion_model.generate(image_prompt)\n",
    "\n",
    "# Display or save the generated image\n",
    "# generated_image.show() or generated_image.save(\"slide_image.png\")\n"
   ]
  },
  {
   "cell_type": "markdown",
   "metadata": {},
   "source": [
    "Prompt Template for Stable Diffusion Model\n"
   ]
  },
  {
   "cell_type": "code",
   "execution_count": 7,
   "metadata": {},
   "outputs": [
    {
     "name": "stdout",
     "output_type": "stream",
     "text": [
      "Presentation Context:\n",
      "A presentation on the health benefits of various teas.\n",
      "\n",
      "Slide Text:\n",
      "Green Tea: Rich in antioxidants, boosts brain function, aids in fat loss, and reduces cancer risk.\n",
      "\n",
      "Based on the above context and slide text, generate a detailed and informative prompt for a Stable Diffusion model to create an image that clearly explains and complements the content of the slide. The image should be visually appealing, informative, and enhance the audience's understanding of the slide's topic.\n"
     ]
    }
   ],
   "source": [
    "from langchain.prompts import PromptTemplate\n",
    "\n",
    "generate_stable_diffusion_prompt_template = PromptTemplate(\n",
    "    input_variables=[\"presentation_context\", \"slide_text\"],\n",
    "    template=\"\"\"\n",
    "Presentation Context:\n",
    "{presentation_context}\n",
    "\n",
    "Slide Text:\n",
    "{slide_text}\n",
    "\n",
    "Based on the above context and slide text, generate a detailed and informative prompt for a Stable Diffusion model to create an image that clearly explains and complements the content of the slide. The image should be visually appealing, informative, and enhance the audience's understanding of the slide's topic.\n",
    "\"\"\"\n",
    ")\n",
    "\n",
    "# Example usage\n",
    "presentation_context = \"A presentation on the health benefits of various teas.\"\n",
    "slide_text = \"Green Tea: Rich in antioxidants, boosts brain function, aids in fat loss, and reduces cancer risk.\"\n",
    "\n",
    "# Generate the Stable Diffusion prompt\n",
    "stable_diffusion_prompt = generate_stable_diffusion_prompt_template.format(presentation_context=presentation_context, slide_text=slide_text)\n",
    "\n",
    "# Print the generated Stable Diffusion prompt\n",
    "print(stable_diffusion_prompt.strip())  # Using strip() to remove any leading/trailing whitespace\n"
   ]
  },
  {
   "cell_type": "code",
   "execution_count": null,
   "metadata": {},
   "outputs": [],
   "source": []
  }
 ],
 "metadata": {
  "kernelspec": {
   "display_name": "GPT4ALL_env",
   "language": "python",
   "name": "python3"
  },
  "language_info": {
   "codemirror_mode": {
    "name": "ipython",
    "version": 3
   },
   "file_extension": ".py",
   "mimetype": "text/x-python",
   "name": "python",
   "nbconvert_exporter": "python",
   "pygments_lexer": "ipython3",
   "version": "3.10.11"
  }
 },
 "nbformat": 4,
 "nbformat_minor": 2
}
